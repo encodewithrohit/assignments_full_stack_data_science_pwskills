{
  "nbformat": 4,
  "nbformat_minor": 0,
  "metadata": {
    "colab": {
      "provenance": []
    },
    "kernelspec": {
      "name": "python3",
      "display_name": "Python 3"
    },
    "language_info": {
      "name": "python"
    }
  },
  "cells": [
    {
      "cell_type": "markdown",
      "source": [
        "1. Define a double linked list"
      ],
      "metadata": {
        "id": "iCACnfPHdYgQ"
      }
    },
    {
      "cell_type": "code",
      "source": [
        "'''\n",
        "A double linked list (or doubly linked list) is a data structure consisting of nodes,\n",
        "each containing data and two pointers: one to the next node and one to the previous node.\n",
        "This allows traversal in both directions.\n",
        "'''"
      ],
      "metadata": {
        "id": "P73vJT8wdYLO"
      },
      "execution_count": null,
      "outputs": []
    },
    {
      "cell_type": "markdown",
      "source": [
        "2. Write a function to reverse a linked list in-place\n"
      ],
      "metadata": {
        "id": "TlzVXshveGBP"
      }
    },
    {
      "cell_type": "code",
      "execution_count": null,
      "metadata": {
        "id": "u_qLqJXice0-",
        "colab": {
          "base_uri": "https://localhost:8080/"
        },
        "outputId": "e321c2a7-010f-4487-9ce8-d7388dae6998"
      },
      "outputs": [
        {
          "output_type": "stream",
          "name": "stdout",
          "text": [
            "Original List :\n",
            "1->2->3->4->5->None\n",
            "Reversed List :\n",
            "5->4->3->2->1->None\n"
          ]
        }
      ],
      "source": [
        "class Node :\n",
        "\n",
        "  def __init__(self, data=0, next=None) :\n",
        "    self.data = data\n",
        "    self.next = next\n",
        "\n",
        "  def getdata(self) :\n",
        "    return self.data\n",
        "\n",
        "  def setdata(self, data) :\n",
        "    self.data = data\n",
        "\n",
        "  def getnext(self) :\n",
        "    return self.next\n",
        "\n",
        "  def setnext(self, next) :\n",
        "    self.next = next\n",
        "\n",
        "\n",
        "node1 = Node(1)\n",
        "node2 = Node(2)\n",
        "node3 = Node(3)\n",
        "node4 = Node(4)\n",
        "node5 = Node(5)\n",
        "\n",
        "node1.setnext(node2)\n",
        "node2.setnext(node3)\n",
        "node3.setnext(node4)\n",
        "node4.setnext(node5)\n",
        "\n",
        "def reverseLL(head) :\n",
        "\n",
        "  prev = None\n",
        "  curr = head\n",
        "\n",
        "  while curr :\n",
        "    next_node = curr.getnext()\n",
        "    curr.setnext(prev)\n",
        "    prev = curr\n",
        "    curr = next_node\n",
        "\n",
        "  return prev\n",
        "\n",
        "def printLL(head) :\n",
        "  temp = head\n",
        "  while temp :\n",
        "    print(temp.getdata(), end = \"->\")\n",
        "    temp = temp.getnext()\n",
        "  print(None)\n",
        "\n",
        "\n",
        "head = node1\n",
        "print(\"Original List :\")\n",
        "printLL(head)\n",
        "reversed_head = reverseLL(head)\n",
        "print(\"Reversed List :\")\n",
        "printLL(reversed_head)"
      ]
    },
    {
      "cell_type": "markdown",
      "source": [
        "3. Detect cycle in a linked list\n"
      ],
      "metadata": {
        "id": "_o1s2QGdeK2Z"
      }
    },
    {
      "cell_type": "code",
      "source": [
        "class Node :\n",
        "\n",
        "  def __init__(self, data=0, next=None) :\n",
        "    self.data = data\n",
        "    self.next = next\n",
        "\n",
        "  def getdata(self) :\n",
        "    return self.data\n",
        "\n",
        "  def setdata(self, data) :\n",
        "    self.data = data\n",
        "\n",
        "  def getnext(self) :\n",
        "    return self.next\n",
        "\n",
        "  def setnext(self, next) :\n",
        "    self.next = next\n",
        "\n",
        "\n",
        "node1 = Node(1)\n",
        "node2 = Node(2)\n",
        "node3 = Node(3)\n",
        "node4 = Node(4)\n",
        "node5 = Node(5)\n",
        "\n",
        "node1.setnext(node2)\n",
        "node2.setnext(node3)\n",
        "node3.setnext(node4)\n",
        "node4.setnext(node5)\n",
        "node5.setnext(node1)\n",
        "\n",
        "\n",
        "def check_cycle_exits(head) :\n",
        "\n",
        "  slow = head\n",
        "  fast = head\n",
        "\n",
        "  while fast and fast.getnext() :\n",
        "    slow = slow.getnext()\n",
        "    fast = fast.getnext().getnext()\n",
        "\n",
        "    if slow == fast :\n",
        "      return True\n",
        "\n",
        "  return False\n",
        "\n",
        "\n",
        "head = node1\n",
        "cycle_exists = check_cycle_exits(head)\n",
        "print(cycle_exists)"
      ],
      "metadata": {
        "colab": {
          "base_uri": "https://localhost:8080/"
        },
        "id": "btry-iiQd_Zg",
        "outputId": "572a2304-4913-4aa6-fd01-d12e8f88908c"
      },
      "execution_count": null,
      "outputs": [
        {
          "output_type": "stream",
          "name": "stdout",
          "text": [
            "True\n"
          ]
        }
      ]
    },
    {
      "cell_type": "markdown",
      "source": [
        "4. Merge two sorted linked list into one.\n",
        "\n",
        "1->3->5->7->null\n",
        "\n",
        "&\n",
        "\n",
        "2->4->6->8->null\n",
        "\n",
        "Should be merged to make :\n",
        "\n",
        "1->2->3->4->5->6->7->8\n"
      ],
      "metadata": {
        "id": "SGfttpUeU-Jr"
      }
    },
    {
      "cell_type": "code",
      "source": [
        "class Node :\n",
        "\n",
        "  def __init__(self, data=0, next=None) :\n",
        "    self.data = data\n",
        "    self.next = next\n",
        "\n",
        "  def getdata(self) :\n",
        "    return self.data\n",
        "\n",
        "  def setdata(self, data) :\n",
        "    self.data = data\n",
        "\n",
        "  def getnext(self) :\n",
        "    return self.next\n",
        "\n",
        "  def setnext(self, next) :\n",
        "    self.next = next\n",
        "\n",
        "\n",
        "node1 = Node(1)\n",
        "node2 = Node(2)\n",
        "node3 = Node(3)\n",
        "node4 = Node(4)\n",
        "node5 = Node(5)\n",
        "node6 = Node(6)\n",
        "node7 = Node(7)\n",
        "node8 = Node(8)\n",
        "\n",
        "node1.setnext(node3)\n",
        "node3.setnext(node5)\n",
        "node5.setnext(node7)\n",
        "\n",
        "node2.setnext(node4)\n",
        "node4.setnext(node6)\n",
        "node6.setnext(node8)\n",
        "\n",
        "def merge_sorted_array(l1, l2) :\n",
        "\n",
        "  dummy = Node(0)\n",
        "  dummy.setnext(head)\n",
        "  curr = dummy\n",
        "\n",
        "  while l1 and l2 :\n",
        "\n",
        "    if l1.getdata() <= l2.getdata() :\n",
        "      curr.setnext(l1)\n",
        "      l1 = l1.getnext()\n",
        "    else :\n",
        "      curr.setnext(l2)\n",
        "      l2 = l2.getnext()\n",
        "\n",
        "    curr = curr.getnext()\n",
        "\n",
        "  if l1 :\n",
        "    curr.setnext(l1)\n",
        "  if l2 :\n",
        "    curr.setnext(l2)\n",
        "\n",
        "  return dummy.getnext()\n",
        "\n",
        "\n",
        "def printLL(head) :\n",
        "  temp = head\n",
        "  while temp :\n",
        "    print(temp.getdata(), end = \"->\")\n",
        "    temp = temp.getnext()\n",
        "  print(None)\n",
        "\n",
        "\n",
        "l1 = node1\n",
        "l2 = node2\n",
        "new_head = merge_sorted_array(l1, l2)\n",
        "printLL(new_head)"
      ],
      "metadata": {
        "colab": {
          "base_uri": "https://localhost:8080/"
        },
        "id": "ppSYk2ZFTK9t",
        "outputId": "76b5dce2-e207-42eb-aa8c-75bcf6c76175"
      },
      "execution_count": null,
      "outputs": [
        {
          "output_type": "stream",
          "name": "stdout",
          "text": [
            "1->2->3->4->5->6->7->8->None\n"
          ]
        }
      ]
    },
    {
      "cell_type": "markdown",
      "source": [
        "5. Write a function to remove nth node from the end in a linked list\n",
        "\n",
        "1->2->3->4->5->6\n",
        "\n",
        "Removing 2nd node from end will return :\n",
        "\n",
        "1->2->3->4->6\n",
        "\n",
        "\n"
      ],
      "metadata": {
        "id": "h4fI6NMLgcVa"
      }
    },
    {
      "cell_type": "code",
      "source": [
        "class Node :\n",
        "\n",
        "  def __init__(self, data=0, next=None) :\n",
        "    self.data = data\n",
        "    self.next = next\n",
        "\n",
        "  def getdata(self) :\n",
        "    return self.data\n",
        "\n",
        "  def setdata(self, data) :\n",
        "    self.data = data\n",
        "\n",
        "  def getnext(self) :\n",
        "    return self.next\n",
        "\n",
        "  def setnext(self, next) :\n",
        "    self.next = next\n",
        "\n",
        "\n",
        "node1 = Node(1)\n",
        "node2 = Node(2)\n",
        "node3 = Node(3)\n",
        "node4 = Node(4)\n",
        "node5 = Node(5)\n",
        "node6 = Node(6)\n",
        "\n",
        "node1.setnext(node2)\n",
        "node2.setnext(node3)\n",
        "node3.setnext(node4)\n",
        "node4.setnext(node5)\n",
        "node5.setnext(node6)\n",
        "\n",
        "\n",
        "def remove_nth_from_last(head, n) :\n",
        "\n",
        "  dummy = Node(0)\n",
        "  dummy.setnext(head)\n",
        "  first = dummy\n",
        "  second = dummy\n",
        "\n",
        "  for i in range(n+1) :\n",
        "    first = first.getnext()\n",
        "\n",
        "  while first :\n",
        "    first = first.getnext()\n",
        "    second = second.getnext()\n",
        "\n",
        "\n",
        "  second.setnext(second.getnext().getnext())\n",
        "\n",
        "  return dummy.getnext()\n",
        "\n",
        "\n",
        "def printLL(head) :\n",
        "  temp = head\n",
        "  while temp :\n",
        "    print(temp.getdata(), end = \"->\")\n",
        "    temp = temp.getnext()\n",
        "  print(None)\n",
        "\n",
        "\n",
        "n = 2\n",
        "head = node1\n",
        "new_head = remove_nth_from_last(head, n)\n",
        "printLL(new_head)"
      ],
      "metadata": {
        "colab": {
          "base_uri": "https://localhost:8080/"
        },
        "id": "vT2k1_rJeWLh",
        "outputId": "557013c9-c592-43c3-839f-edd56e8df931"
      },
      "execution_count": null,
      "outputs": [
        {
          "output_type": "stream",
          "name": "stdout",
          "text": [
            "1->2->3->4->6->None\n"
          ]
        }
      ]
    },
    {
      "cell_type": "markdown",
      "source": [
        "6. Remove duplicates from a sorted linked list.\n",
        "\n",
        "1->2->3->3->4->4->4->5  \n",
        "\n",
        "Should be changed to :\n",
        "\n",
        "1->2->3->4->5"
      ],
      "metadata": {
        "id": "QNpmHI5urDxf"
      }
    },
    {
      "cell_type": "code",
      "source": [
        "class Node :\n",
        "\n",
        "  def __init__(self, data=0, next=None) :\n",
        "    self.data = data\n",
        "    self.next = next\n",
        "\n",
        "  def getdata(self) :\n",
        "    return self.data\n",
        "\n",
        "  def setdata(self, data) :\n",
        "    self.data = data\n",
        "\n",
        "  def getnext(self) :\n",
        "    return self.next\n",
        "\n",
        "  def setnext(self, next) :\n",
        "    self.next = next\n",
        "\n",
        "\n",
        "node1 = Node(1)\n",
        "node2 = Node(2)\n",
        "node3 = Node(3)\n",
        "node4 = Node(3)\n",
        "node5 = Node(4)\n",
        "node6 = Node(4)\n",
        "node7 = Node(4)\n",
        "node8 = Node(5)\n",
        "\n",
        "node1.setnext(node2)\n",
        "node2.setnext(node3)\n",
        "node3.setnext(node4)\n",
        "node4.setnext(node5)\n",
        "node5.setnext(node6)\n",
        "node6.setnext(node7)\n",
        "node7.setnext(node8)\n",
        "\n",
        "\n",
        "def remove_dups(head) :\n",
        "\n",
        "  curr = head\n",
        "\n",
        "  while curr and curr.getnext() :\n",
        "    if curr.getdata() == curr.getnext().getdata() :\n",
        "      curr.setnext(curr.getnext().getnext())\n",
        "    else :\n",
        "      curr = curr.getnext()\n",
        "  return head\n",
        "\n",
        "\n",
        "def printLL(head) :\n",
        "  temp = head\n",
        "  while temp :\n",
        "    print(temp.getdata(), end = \"->\")\n",
        "    temp = temp.getnext()\n",
        "  print(None)\n",
        "\n",
        "head = node1\n",
        "new_head = remove_dups(head)\n",
        "printLL(new_head)"
      ],
      "metadata": {
        "colab": {
          "base_uri": "https://localhost:8080/"
        },
        "id": "Mio2BwyNp9eC",
        "outputId": "87b3fdc5-354d-4151-d8f8-2514801fd370"
      },
      "execution_count": null,
      "outputs": [
        {
          "output_type": "stream",
          "name": "stdout",
          "text": [
            "1->2->3->4->5->None\n"
          ]
        }
      ]
    },
    {
      "cell_type": "markdown",
      "source": [
        "7. Find the intersection of the two linked lists\n",
        "\n",
        "1->2->3->4->8->6->9\n",
        "\n",
        "5->1->6->7\n",
        "\n",
        "Intersection -> 6"
      ],
      "metadata": {
        "id": "hLlvbaeN2HMd"
      }
    },
    {
      "cell_type": "code",
      "source": [
        "class Node :\n",
        "\n",
        "  def __init__(self, data=0, next=None) :\n",
        "    self.data = data\n",
        "    self.next = next\n",
        "\n",
        "  def getdata(self) :\n",
        "    return self.data\n",
        "\n",
        "  def setdata(self, data) :\n",
        "    self.data = data\n",
        "\n",
        "  def getnext(self) :\n",
        "    return self.next\n",
        "\n",
        "  def setnext(self, next) :\n",
        "    self.next = next\n",
        "\n",
        "\n",
        "node1 = Node(1)\n",
        "node2 = Node(2)\n",
        "node3 = Node(3)\n",
        "node4 = Node(4)\n",
        "node5 = Node(5)\n",
        "node6 = Node(6)\n",
        "node7 = Node(7)\n",
        "node8 = Node(8)\n",
        "node9 = Node(9)\n",
        "node10 = Node(1)\n",
        "\n",
        "node1.setnext(node2)\n",
        "node2.setnext(node3)\n",
        "node3.setnext(node4)\n",
        "node4.setnext(node8)\n",
        "node8.setnext(node6)\n",
        "node6.setnext(node9)\n",
        "\n",
        "node5.setnext(node10)\n",
        "node10.setnext(node6)\n",
        "node6.setnext(node7)\n",
        "\n",
        "\n",
        "def find_intersection(headA, headB) :\n",
        "\n",
        "  tempA = headA\n",
        "  tempB = headB\n",
        "\n",
        "  while tempA != tempB :\n",
        "\n",
        "    if tempA :\n",
        "      tempA = tempA.getnext()\n",
        "    else :\n",
        "      tempA = headB\n",
        "\n",
        "    if tempB :\n",
        "      tempB = tempB.getnext()\n",
        "    else :\n",
        "      tempB = headA\n",
        "\n",
        "  return tempA\n",
        "\n",
        "\n",
        "headA = node1\n",
        "headB = node5\n",
        "intesection_point = find_intersection(headA, headB)\n",
        "print(f\"Intersection point : {intesection_point.getdata()}\")"
      ],
      "metadata": {
        "id": "Rszro4EyvdT5",
        "colab": {
          "base_uri": "https://localhost:8080/"
        },
        "outputId": "493b4666-3616-4033-e410-d9d3ae42cd98"
      },
      "execution_count": 3,
      "outputs": [
        {
          "output_type": "stream",
          "name": "stdout",
          "text": [
            "Intersection point : 6\n"
          ]
        }
      ]
    },
    {
      "cell_type": "markdown",
      "source": [
        "7. Rotate a linked list by k positions to the right\n",
        "\n",
        "1->2->3->4->8->6->9\n",
        "\n",
        "After rotating for 2 times, becomes :\n",
        "\n",
        "3->4->8->6->9->1->2"
      ],
      "metadata": {
        "id": "fWqpfGfr5q-F"
      }
    },
    {
      "cell_type": "code",
      "source": [
        "class Node :\n",
        "\n",
        "  def __init__(self, data=0, next=None) :\n",
        "    self.data = data\n",
        "    self.next = next\n",
        "\n",
        "  def getdata(self) :\n",
        "    return self.data\n",
        "\n",
        "  def setdata(self, data) :\n",
        "    self.data = data\n",
        "\n",
        "  def getnext(self) :\n",
        "    return self.next\n",
        "\n",
        "  def setnext(self, next) :\n",
        "    self.next = next\n",
        "\n",
        "\n",
        "node1 = Node(1)\n",
        "node2 = Node(2)\n",
        "node3 = Node(3)\n",
        "node4 = Node(4)\n",
        "node5 = Node(5)\n",
        "node6 = Node(6)\n",
        "node7 = Node(7)\n",
        "node8 = Node(8)\n",
        "node9 = Node(9)\n",
        "\n",
        "node1.setnext(node2)\n",
        "node2.setnext(node3)\n",
        "node3.setnext(node4)\n",
        "node4.setnext(node8)\n",
        "node8.setnext(node6)\n",
        "node6.setnext(node9)\n",
        "\n",
        "\n",
        "def rotate_right(head, k) :\n",
        "\n",
        "  if not head or not head.getnext() or k == 0 :\n",
        "    return head\n",
        "\n",
        "  length = 1\n",
        "  old_tail = head\n",
        "  while old_tail.getnext() :\n",
        "    old_tail = old_tail.getnext()\n",
        "    length += 1\n",
        "\n",
        "  k = k % length\n",
        "  if k == 0 :\n",
        "    return head\n",
        "\n",
        "  new_tail = head\n",
        "  for _ in range(length-k-1) :\n",
        "    new_tail = new_tail.getnext()\n",
        "\n",
        "  new_head = new_tail.getnext()\n",
        "\n",
        "  new_tail.setnext(None)\n",
        "  old_tail.setnext(head)\n",
        "\n",
        "  return new_head\n",
        "\n",
        "def printLL(head) :\n",
        "  temp = head\n",
        "  while temp :\n",
        "    print(temp.getdata(), end = \"->\")\n",
        "    temp = temp.getnext()\n",
        "  print(None)\n",
        "\n",
        "\n",
        "n_head = rotate_right(node1, 2)\n",
        "printLL(n_head)\n",
        "\n"
      ],
      "metadata": {
        "colab": {
          "base_uri": "https://localhost:8080/"
        },
        "id": "eBYDsXAD40Sq",
        "outputId": "de7cf5fc-513a-4a1d-f343-c86489b00d5f"
      },
      "execution_count": 8,
      "outputs": [
        {
          "output_type": "stream",
          "name": "stdout",
          "text": [
            "6->9->1->2->3->4->8->None\n"
          ]
        }
      ]
    },
    {
      "cell_type": "markdown",
      "source": [
        "9. Add Two Numbers Represented by LinkedLists :\n",
        "\n",
        "Given two non-empty linked lists representing two non-negative integers, where the digits are stored in reverse order, add the two numCers and return it as a linked list.\n"
      ],
      "metadata": {
        "id": "ja9YkRQPQj1S"
      }
    },
    {
      "cell_type": "code",
      "source": [
        "class Node :\n",
        "\n",
        "  def __init__(self, data=0, next=None) :\n",
        "    self.data = data\n",
        "    self.next = next\n",
        "\n",
        "  def getdata(self) :\n",
        "    return self.data\n",
        "\n",
        "  def setdata(self, data) :\n",
        "    self.data = data\n",
        "\n",
        "  def getnext(self) :\n",
        "    return self.next\n",
        "\n",
        "  def setnext(self, next) :\n",
        "    self.next = next\n",
        "\n",
        "\n",
        "node1 = Node(1)\n",
        "node2 = Node(2)\n",
        "node3 = Node(3)\n",
        "node4 = Node(4)\n",
        "node5 = Node(5)\n",
        "node6 = Node(6)\n",
        "node7 = Node(7)\n",
        "node8 = Node(8)\n",
        "node9 = Node(9)\n",
        "\n",
        "node9.setnext(node8)\n",
        "node8.setnext(node7)\n",
        "node7.setnext(node6)\n",
        "\n",
        "node5.setnext(node4)\n",
        "node4.setnext(node3)\n",
        "node3.setnext(node2)\n",
        "\n",
        "\n",
        "def add_2_linked_list(l1, l2) :\n",
        "\n",
        "  dummy_head = Node(0)\n",
        "  curr = dummy_head\n",
        "  carry = 0\n",
        "\n",
        "  while l1 is not None and l2 is not None :\n",
        "\n",
        "    if l1 :\n",
        "      x = l1.getdata()\n",
        "    else :\n",
        "      None\n",
        "    if l2 :\n",
        "      y = l2.getdata()\n",
        "    else :\n",
        "      None\n",
        "\n",
        "    total = carry + x + y\n",
        "    carry = total // 10\n",
        "    curr.setnext(Node(total % 10))\n",
        "    curr = curr.getnext()\n",
        "\n",
        "    if l1 is not None :\n",
        "      l1 = l1.getnext()\n",
        "    if l2 is not None :\n",
        "      l2 = l2.getnext()\n",
        "\n",
        "  if carry > 0 :\n",
        "    curr.setnext(Node(carry))\n",
        "\n",
        "  return dummy_head.getnext()\n",
        "\n",
        "\n",
        "def traverse(head) :\n",
        "\n",
        "  temp = head\n",
        "  while temp:\n",
        "    print(temp.getdata(), end= \"->\")\n",
        "    temp = temp.getnext()\n",
        "  print(\"None\")\n",
        "\n",
        "\n",
        "l1 = node9\n",
        "l2 = node5\n",
        "new_head = add_2_linked_list(l1, l2)\n",
        "traverse(new_head)\n"
      ],
      "metadata": {
        "colab": {
          "base_uri": "https://localhost:8080/"
        },
        "id": "ihrHq6_IO0Zk",
        "outputId": "f7b40124-5d3e-46a3-9c46-80f17708810b"
      },
      "execution_count": 10,
      "outputs": [
        {
          "output_type": "stream",
          "name": "stdout",
          "text": [
            "4->3->1->9->None\n"
          ]
        }
      ]
    },
    {
      "cell_type": "markdown",
      "source": [
        "10. Clone a Linked List with next and Random Pointer\n",
        "\n",
        "Given a linked list of size N where each node has two links: one pointer points to the next node and the\n",
        "second pointer points to any node in the list. The task is to create a clone of this linked list in O(N) time.\n",
        "\n",
        "Note: The pointer pointing to the next node is ‘next‘ pointer and the one pointing to an arCitrary node is called ‘arCit’ pointer as it can point to any arCitrary node in the linked list.\n"
      ],
      "metadata": {
        "id": "8izlxsy_rUsq"
      }
    },
    {
      "cell_type": "code",
      "source": [
        "class Node:\n",
        "\n",
        "  def __init__(self, data=0, next=None, random=None) :\n",
        "    self.data = data\n",
        "    self.next = next\n",
        "    self.random = random\n",
        "\n",
        "def print_linked_list(head) :\n",
        "\n",
        "  while head:\n",
        "    random_data = head.random.data if head.random else \"None\"\n",
        "    print(f\"Node({head.data}), Random({random_data}) -> \", end=\"\")\n",
        "    head = head.next\n",
        "  print(\"None\")\n",
        "\n",
        "def clone_linked_list(head) :\n",
        "\n",
        "  if not head :\n",
        "    return None\n",
        "\n",
        "  #1: Create new nodes and insert them after each original node\n",
        "  current = head\n",
        "  while current :\n",
        "    new_node = Node(current.data)\n",
        "    new_node.next = current.next\n",
        "    current.next = new_node\n",
        "    current = new_node.next\n",
        "\n",
        "  #2: Set the random pointers for the new nodes\n",
        "  current = head\n",
        "  while current :\n",
        "    if current.random :\n",
        "      current.next.random = current.random.next\n",
        "    current = current.next.next\n",
        "\n",
        "  #3: Restore the original list and extract the new list\n",
        "  current = head\n",
        "  new_head = head.next\n",
        "  while current :\n",
        "    temp = current.next\n",
        "    current.next = temp.next\n",
        "    if temp.next :\n",
        "      temp.next = temp.next.next\n",
        "    current = current.next\n",
        "\n",
        "  return new_head\n",
        "\n",
        "\n",
        "def create_linked_list_with_random(data_random_pairs) :\n",
        "\n",
        "  nodes = [Node(data) for data, _ in data_random_pairs]\n",
        "  head = nodes[0]\n",
        "\n",
        "  for i in range(len(nodes) - 1) :\n",
        "    nodes[i].next = nodes[i + 1]\n",
        "  for i, (_, random_idx) in enumerate(data_random_pairs) :\n",
        "    if random_idx is not None :\n",
        "      nodes[i].random = nodes[random_idx]\n",
        "  return head\n",
        "\n",
        "\n",
        "data_random_pairs = [(1, 2), (2, 0), (3, 4), (4, 1), (5, None)]\n",
        "original_head = create_linked_list_with_random(data_random_pairs)\n",
        "\n",
        "print(\"Original list:\")\n",
        "print_linked_list(original_head)\n",
        "cloned_head = clone_linked_list(original_head)\n",
        "print(\"Cloned list:\")\n",
        "print_linked_list(cloned_head)"
      ],
      "metadata": {
        "colab": {
          "base_uri": "https://localhost:8080/"
        },
        "id": "zAFoOTIQUB8Z",
        "outputId": "5acc6d00-2190-43d4-c9d9-d9a3a3ade00b"
      },
      "execution_count": 2,
      "outputs": [
        {
          "output_type": "stream",
          "name": "stdout",
          "text": [
            "Original list:\n",
            "Node(1), Random(3) -> Node(2), Random(1) -> Node(3), Random(5) -> Node(4), Random(2) -> Node(5), Random(None) -> None\n",
            "Cloned list:\n",
            "Node(1), Random(3) -> Node(2), Random(1) -> Node(3), Random(5) -> Node(4), Random(2) -> Node(5), Random(None) -> None\n"
          ]
        }
      ]
    }
  ]
}